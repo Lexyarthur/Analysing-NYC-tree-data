{
 "cells": [
  {
   "cell_type": "markdown",
   "id": "4a114772",
   "metadata": {},
   "source": [
    "# Apple cultivars\n",
    "\n",
    "* **Data:** `apples.csv`\n",
    "* **Description:** Types of apples\n",
    "* **Source:** https://en.wikipedia.org/wiki/List_of_apple_cultivars\n",
    "* **Columns of interest:**\n",
    "    * `Common name` - the non-scientific name of the apple cultivar\n",
    "    * `Origin` - where it came from\n",
    "    * `First developed` - year it was developed\n",
    "    * `Comment` - Description\n",
    "    * `Use` - whether best for eating, baking, etc\n",
    "\n",
    "Note that you'll need to brush up on `.str.contains` for this notebook."
   ]
  },
  {
   "cell_type": "markdown",
   "id": "32bd1f7a",
   "metadata": {},
   "source": [
    "## Read in your data"
   ]
  },
  {
   "cell_type": "code",
   "execution_count": 1,
   "id": "f6d8cc9f",
   "metadata": {},
   "outputs": [
    {
     "name": "stderr",
     "output_type": "stream",
     "text": [
      "/Users/owner/.pyenv/versions/3.9.7/lib/python3.9/site-packages/pandas/compat/__init__.py:124: UserWarning: Could not import the lzma module. Your installed Python is incomplete. Attempting to use lzma compression will result in a RuntimeError.\n",
      "  warnings.warn(msg)\n"
     ]
    },
    {
     "data": {
      "text/html": [
       "<div>\n",
       "<style scoped>\n",
       "    .dataframe tbody tr th:only-of-type {\n",
       "        vertical-align: middle;\n",
       "    }\n",
       "\n",
       "    .dataframe tbody tr th {\n",
       "        vertical-align: top;\n",
       "    }\n",
       "\n",
       "    .dataframe thead th {\n",
       "        text-align: right;\n",
       "    }\n",
       "</style>\n",
       "<table border=\"1\" class=\"dataframe\">\n",
       "  <thead>\n",
       "    <tr style=\"text-align: right;\">\n",
       "      <th></th>\n",
       "      <th>Common name</th>\n",
       "      <th>Origin</th>\n",
       "      <th>First developed</th>\n",
       "      <th>Comment</th>\n",
       "      <th>Use</th>\n",
       "    </tr>\n",
       "  </thead>\n",
       "  <tbody>\n",
       "    <tr>\n",
       "      <th>0</th>\n",
       "      <td>Abram</td>\n",
       "      <td>US</td>\n",
       "      <td>1850</td>\n",
       "      <td>A small apple with red flush. Flesh white, ten...</td>\n",
       "      <td>Eating</td>\n",
       "    </tr>\n",
       "    <tr>\n",
       "      <th>1</th>\n",
       "      <td>Acheson</td>\n",
       "      <td>Canada</td>\n",
       "      <td>Introduced 1941</td>\n",
       "      <td>Fruit large, greenish yellow. P Delicious x un...</td>\n",
       "      <td>Eating</td>\n",
       "    </tr>\n",
       "    <tr>\n",
       "      <th>2</th>\n",
       "      <td>Acklam Russet</td>\n",
       "      <td>England</td>\n",
       "      <td>1768</td>\n",
       "      <td>A small russet apple. An excellent dessert app...</td>\n",
       "      <td>Eating</td>\n",
       "    </tr>\n",
       "    <tr>\n",
       "      <th>3</th>\n",
       "      <td>Adams Pearmain</td>\n",
       "      <td>England</td>\n",
       "      <td>Introduced 1826</td>\n",
       "      <td>A dessert apple. First introduced under the na...</td>\n",
       "      <td>Eating</td>\n",
       "    </tr>\n",
       "    <tr>\n",
       "      <th>4</th>\n",
       "      <td>Adina (syn. Frankad, Satark)</td>\n",
       "      <td>Australia</td>\n",
       "      <td>NaN</td>\n",
       "      <td>A large red apple. Flesh firm, juicy, sweet, v...</td>\n",
       "      <td>Eating</td>\n",
       "    </tr>\n",
       "  </tbody>\n",
       "</table>\n",
       "</div>"
      ],
      "text/plain": [
       "                    Common name     Origin  First developed  \\\n",
       "0                         Abram         US             1850   \n",
       "1                       Acheson     Canada  Introduced 1941   \n",
       "2                 Acklam Russet    England             1768   \n",
       "3                Adams Pearmain    England  Introduced 1826   \n",
       "4  Adina (syn. Frankad, Satark)  Australia              NaN   \n",
       "\n",
       "                                             Comment     Use  \n",
       "0  A small apple with red flush. Flesh white, ten...  Eating  \n",
       "1  Fruit large, greenish yellow. P Delicious x un...  Eating  \n",
       "2  A small russet apple. An excellent dessert app...  Eating  \n",
       "3  A dessert apple. First introduced under the na...  Eating  \n",
       "4  A large red apple. Flesh firm, juicy, sweet, v...  Eating  "
      ]
     },
     "execution_count": 1,
     "metadata": {},
     "output_type": "execute_result"
    }
   ],
   "source": [
    "import pandas as pd\n",
    "pd.set_option(\"display.max_columns\", None)\n",
    "# pd.set_option(\"display.float_format\", '{:,}'.format)\n",
    "df = pd.read_csv('apples.csv')\n",
    "df.head()"
   ]
  },
  {
   "cell_type": "markdown",
   "id": "e657b5ec",
   "metadata": {},
   "source": [
    "## Clean up the \"First developed\" column\n",
    "\n",
    "Sometimes it's a year and sometimes it is an \"introduced\" year, like `Introduced 1826`. We just want all of them to be years, so feel free to remove the \"Introduced\" part."
   ]
  },
  {
   "cell_type": "code",
   "execution_count": 2,
   "id": "00f90991",
   "metadata": {},
   "outputs": [
    {
     "data": {
      "text/html": [
       "<div>\n",
       "<style scoped>\n",
       "    .dataframe tbody tr th:only-of-type {\n",
       "        vertical-align: middle;\n",
       "    }\n",
       "\n",
       "    .dataframe tbody tr th {\n",
       "        vertical-align: top;\n",
       "    }\n",
       "\n",
       "    .dataframe thead th {\n",
       "        text-align: right;\n",
       "    }\n",
       "</style>\n",
       "<table border=\"1\" class=\"dataframe\">\n",
       "  <thead>\n",
       "    <tr style=\"text-align: right;\">\n",
       "      <th></th>\n",
       "      <th>Common name</th>\n",
       "      <th>Origin</th>\n",
       "      <th>First developed</th>\n",
       "      <th>Comment</th>\n",
       "      <th>Use</th>\n",
       "    </tr>\n",
       "  </thead>\n",
       "  <tbody>\n",
       "    <tr>\n",
       "      <th>0</th>\n",
       "      <td>Abram</td>\n",
       "      <td>US</td>\n",
       "      <td>1850</td>\n",
       "      <td>A small apple with red flush. Flesh white, ten...</td>\n",
       "      <td>Eating</td>\n",
       "    </tr>\n",
       "    <tr>\n",
       "      <th>1</th>\n",
       "      <td>Acheson</td>\n",
       "      <td>Canada</td>\n",
       "      <td>1941</td>\n",
       "      <td>Fruit large, greenish yellow. P Delicious x un...</td>\n",
       "      <td>Eating</td>\n",
       "    </tr>\n",
       "    <tr>\n",
       "      <th>2</th>\n",
       "      <td>Acklam Russet</td>\n",
       "      <td>England</td>\n",
       "      <td>1768</td>\n",
       "      <td>A small russet apple. An excellent dessert app...</td>\n",
       "      <td>Eating</td>\n",
       "    </tr>\n",
       "    <tr>\n",
       "      <th>3</th>\n",
       "      <td>Adams Pearmain</td>\n",
       "      <td>England</td>\n",
       "      <td>1826</td>\n",
       "      <td>A dessert apple. First introduced under the na...</td>\n",
       "      <td>Eating</td>\n",
       "    </tr>\n",
       "    <tr>\n",
       "      <th>4</th>\n",
       "      <td>Adina (syn. Frankad, Satark)</td>\n",
       "      <td>Australia</td>\n",
       "      <td>NaN</td>\n",
       "      <td>A large red apple. Flesh firm, juicy, sweet, v...</td>\n",
       "      <td>Eating</td>\n",
       "    </tr>\n",
       "    <tr>\n",
       "      <th>...</th>\n",
       "      <td>...</td>\n",
       "      <td>...</td>\n",
       "      <td>...</td>\n",
       "      <td>...</td>\n",
       "      <td>...</td>\n",
       "    </tr>\n",
       "    <tr>\n",
       "      <th>1196</th>\n",
       "      <td>Zimska Kolačara</td>\n",
       "      <td>Serbia</td>\n",
       "      <td>1900</td>\n",
       "      <td>A greenish yellow apple. W 55-65, H 65-75, We ...</td>\n",
       "      <td>Eating, Cooking, Pie</td>\n",
       "    </tr>\n",
       "    <tr>\n",
       "      <th>1197</th>\n",
       "      <td>Zoar Greening</td>\n",
       "      <td>US</td>\n",
       "      <td>1865</td>\n",
       "      <td>Flesh white, tender, juicy, subacid, good. Use...</td>\n",
       "      <td>Eating</td>\n",
       "    </tr>\n",
       "    <tr>\n",
       "      <th>1198</th>\n",
       "      <td>Ökna Lökäpple</td>\n",
       "      <td>Sweden</td>\n",
       "      <td>1830</td>\n",
       "      <td>Greenish yellow with some red stripes. H 50, W...</td>\n",
       "      <td>Eating</td>\n",
       "    </tr>\n",
       "    <tr>\n",
       "      <th>1199</th>\n",
       "      <td>Ökna vita Vintergylling</td>\n",
       "      <td>Sweden</td>\n",
       "      <td>1900</td>\n",
       "      <td>A small yellow conical apple. H 60, W 60. Use ...</td>\n",
       "      <td>Cooking, Eating.</td>\n",
       "    </tr>\n",
       "    <tr>\n",
       "      <th>1200</th>\n",
       "      <td>Ölands Kungsäpple</td>\n",
       "      <td>Sweden</td>\n",
       "      <td>1850</td>\n",
       "      <td>A small red conical apple for use in November–...</td>\n",
       "      <td>Eating</td>\n",
       "    </tr>\n",
       "  </tbody>\n",
       "</table>\n",
       "<p>1201 rows × 5 columns</p>\n",
       "</div>"
      ],
      "text/plain": [
       "                       Common name     Origin First developed  \\\n",
       "0                            Abram         US            1850   \n",
       "1                          Acheson     Canada            1941   \n",
       "2                    Acklam Russet    England            1768   \n",
       "3                   Adams Pearmain    England            1826   \n",
       "4     Adina (syn. Frankad, Satark)  Australia             NaN   \n",
       "...                            ...        ...             ...   \n",
       "1196               Zimska Kolačara     Serbia            1900   \n",
       "1197                 Zoar Greening         US            1865   \n",
       "1198                 Ökna Lökäpple     Sweden            1830   \n",
       "1199       Ökna vita Vintergylling     Sweden            1900   \n",
       "1200             Ölands Kungsäpple     Sweden            1850   \n",
       "\n",
       "                                                Comment                   Use  \n",
       "0     A small apple with red flush. Flesh white, ten...                Eating  \n",
       "1     Fruit large, greenish yellow. P Delicious x un...                Eating  \n",
       "2     A small russet apple. An excellent dessert app...                Eating  \n",
       "3     A dessert apple. First introduced under the na...                Eating  \n",
       "4     A large red apple. Flesh firm, juicy, sweet, v...                Eating  \n",
       "...                                                 ...                   ...  \n",
       "1196  A greenish yellow apple. W 55-65, H 65-75, We ...  Eating, Cooking, Pie  \n",
       "1197  Flesh white, tender, juicy, subacid, good. Use...                Eating  \n",
       "1198  Greenish yellow with some red stripes. H 50, W...                Eating  \n",
       "1199  A small yellow conical apple. H 60, W 60. Use ...      Cooking, Eating.  \n",
       "1200  A small red conical apple for use in November–...                Eating  \n",
       "\n",
       "[1201 rows x 5 columns]"
      ]
     },
     "execution_count": 2,
     "metadata": {},
     "output_type": "execute_result"
    }
   ],
   "source": [
    "df['First developed'] = df['First developed'].str.replace('Introduced', '')\n",
    "df"
   ]
  },
  {
   "cell_type": "code",
   "execution_count": null,
   "id": "a82b0858",
   "metadata": {},
   "outputs": [],
   "source": []
  },
  {
   "cell_type": "markdown",
   "id": "9dbfffa4",
   "metadata": {},
   "source": [
    "## What percentage of apples are just for eating?"
   ]
  },
  {
   "cell_type": "code",
   "execution_count": 3,
   "id": "66f6948b",
   "metadata": {},
   "outputs": [
    {
     "data": {
      "text/plain": [
       "Eating                           57.545455\n",
       "Cooking                          13.090909\n",
       "Cooking, Eating                   9.454545\n",
       "Eating, Cooking                   5.909091\n",
       "Cider                             1.090909\n",
       "                                   ...    \n",
       "Cooking (Apple Juice), Eating     0.090909\n",
       "Cider, Cooking Eating             0.090909\n",
       "Eating, Cooking, Drying           0.090909\n",
       "Cooking, (Eating)                 0.090909\n",
       "Eating, cider, juice              0.090909\n",
       "Name: Use, Length: 72, dtype: float64"
      ]
     },
     "execution_count": 3,
     "metadata": {},
     "output_type": "execute_result"
    }
   ],
   "source": [
    "# df.Use.str.contains('Eating', regex=False).value_counts(normalize=True) * 100\n",
    "df.Use.value_counts(normalize=True) * 100"
   ]
  },
  {
   "cell_type": "markdown",
   "id": "b048626a",
   "metadata": {},
   "source": [
    "## Apples are from Kazakhstan, but they've spread since ancient times: calculate the top seven countries for apple cultivars in this dataset"
   ]
  },
  {
   "cell_type": "code",
   "execution_count": 4,
   "id": "e22fa884",
   "metadata": {},
   "outputs": [
    {
     "data": {
      "text/plain": [
       "US         321\n",
       "England    278\n",
       "Germany     75\n",
       "France      38\n",
       "Sweden      35\n",
       "Canada      32\n",
       "Russia      17\n",
       "Name: Origin, dtype: int64"
      ]
     },
     "execution_count": 4,
     "metadata": {},
     "output_type": "execute_result"
    }
   ],
   "source": [
    "df.Origin.value_counts().head(7)"
   ]
  },
  {
   "cell_type": "markdown",
   "id": "f8c572be",
   "metadata": {},
   "source": [
    "## Plot them with the longest bar at the top"
   ]
  },
  {
   "cell_type": "code",
   "execution_count": 5,
   "id": "d66f3a42",
   "metadata": {},
   "outputs": [
    {
     "data": {
      "text/plain": [
       "<AxesSubplot:>"
      ]
     },
     "execution_count": 5,
     "metadata": {},
     "output_type": "execute_result"
    },
    {
     "data": {
      "image/png": "[encoded data removed]",
      "text/plain": [
       "<Figure size 432x288 with 1 Axes>"
      ]
     },
     "metadata": {
      "needs_background": "light"
     },
     "output_type": "display_data"
    }
   ],
   "source": [
    "df.Origin.value_counts().head(7).sort_values().plot(kind='barh')"
   ]
  },
  {
   "cell_type": "markdown",
   "id": "c2a1a9f0",
   "metadata": {},
   "source": [
    "## For apples described as \"small\" in their comment section, how often are they just for eating?"
   ]
  },
  {
   "cell_type": "code",
   "execution_count": 6,
   "id": "4bec8c54",
   "metadata": {},
   "outputs": [
    {
     "data": {
      "text/html": [
       "<div>\n",
       "<style scoped>\n",
       "    .dataframe tbody tr th:only-of-type {\n",
       "        vertical-align: middle;\n",
       "    }\n",
       "\n",
       "    .dataframe tbody tr th {\n",
       "        vertical-align: top;\n",
       "    }\n",
       "\n",
       "    .dataframe thead th {\n",
       "        text-align: right;\n",
       "    }\n",
       "</style>\n",
       "<table border=\"1\" class=\"dataframe\">\n",
       "  <thead>\n",
       "    <tr style=\"text-align: right;\">\n",
       "      <th></th>\n",
       "      <th>Common name</th>\n",
       "      <th>Origin</th>\n",
       "      <th>First developed</th>\n",
       "      <th>Comment</th>\n",
       "      <th>Use</th>\n",
       "    </tr>\n",
       "  </thead>\n",
       "  <tbody>\n",
       "    <tr>\n",
       "      <th>0</th>\n",
       "      <td>Abram</td>\n",
       "      <td>US</td>\n",
       "      <td>1850</td>\n",
       "      <td>A small apple with red flush. Flesh white, ten...</td>\n",
       "      <td>Eating</td>\n",
       "    </tr>\n",
       "    <tr>\n",
       "      <th>1</th>\n",
       "      <td>Acheson</td>\n",
       "      <td>Canada</td>\n",
       "      <td>1941</td>\n",
       "      <td>Fruit large, greenish yellow. P Delicious x un...</td>\n",
       "      <td>Eating</td>\n",
       "    </tr>\n",
       "    <tr>\n",
       "      <th>2</th>\n",
       "      <td>Acklam Russet</td>\n",
       "      <td>England</td>\n",
       "      <td>1768</td>\n",
       "      <td>A small russet apple. An excellent dessert app...</td>\n",
       "      <td>Eating</td>\n",
       "    </tr>\n",
       "    <tr>\n",
       "      <th>3</th>\n",
       "      <td>Adams Pearmain</td>\n",
       "      <td>England</td>\n",
       "      <td>1826</td>\n",
       "      <td>A dessert apple. First introduced under the na...</td>\n",
       "      <td>Eating</td>\n",
       "    </tr>\n",
       "    <tr>\n",
       "      <th>4</th>\n",
       "      <td>Adina (syn. Frankad, Satark)</td>\n",
       "      <td>Australia</td>\n",
       "      <td>NaN</td>\n",
       "      <td>A large red apple. Flesh firm, juicy, sweet, v...</td>\n",
       "      <td>Eating</td>\n",
       "    </tr>\n",
       "  </tbody>\n",
       "</table>\n",
       "</div>"
      ],
      "text/plain": [
       "                    Common name     Origin First developed  \\\n",
       "0                         Abram         US            1850   \n",
       "1                       Acheson     Canada            1941   \n",
       "2                 Acklam Russet    England            1768   \n",
       "3                Adams Pearmain    England            1826   \n",
       "4  Adina (syn. Frankad, Satark)  Australia             NaN   \n",
       "\n",
       "                                             Comment     Use  \n",
       "0  A small apple with red flush. Flesh white, ten...  Eating  \n",
       "1  Fruit large, greenish yellow. P Delicious x un...  Eating  \n",
       "2  A small russet apple. An excellent dessert app...  Eating  \n",
       "3  A dessert apple. First introduced under the na...  Eating  \n",
       "4  A large red apple. Flesh firm, juicy, sweet, v...  Eating  "
      ]
     },
     "execution_count": 6,
     "metadata": {},
     "output_type": "execute_result"
    }
   ],
   "source": [
    "df.head()"
   ]
  },
  {
   "cell_type": "code",
   "execution_count": 14,
   "id": "aea7114e",
   "metadata": {},
   "outputs": [
    {
     "data": {
      "text/plain": [
       "False    607\n",
       "True      22\n",
       "Name: Comment, dtype: int64"
      ]
     },
     "execution_count": 14,
     "metadata": {},
     "output_type": "execute_result"
    }
   ],
   "source": [
    "# df.Use == 'Eating'\n",
    "\n",
    "df.Comment.str.contains('small', regex=False)[df.Use == 'Eating'].value_counts()\n",
    "\n",
    "# Your answer is actually answering\n",
    "# \"For apples that are just for eating, how often are they small?\" -\n",
    "# but it's less an issue about correctness and more an issue about how your code is structured.\n",
    "# I think it's kind of the same as the previous note about filtering first, \n",
    "# but for this one you want: \n",
    "df[df.Comment.str.contains(\"small\", na=False)].Use.value_counts()\n",
    "# Since the code *does* run and it doesn't give you any warnings \n",
    "# that something crazy might be happening, I think the key to getting\n",
    "# better at these kinds of questions is doing some more notebooks and having a tight feedback loop on them. "
   ]
  },
  {
   "cell_type": "markdown",
   "id": "8b21dc99",
   "metadata": {},
   "source": [
    "## Save a CSV of just apples from Sweden, calling it `sweden.csv`"
   ]
  },
  {
   "cell_type": "code",
   "execution_count": 8,
   "id": "5afce25e",
   "metadata": {},
   "outputs": [],
   "source": [
    "df[df.Origin == 'Sweden'].to_csv('sweden.csv')"
   ]
  },
  {
   "cell_type": "markdown",
   "id": "56dde209",
   "metadata": {},
   "source": [
    "## What was the first apple cultivar from Japan?"
   ]
  },
  {
   "cell_type": "code",
   "execution_count": null,
   "id": "67ef7d77",
   "metadata": {},
   "outputs": [],
   "source": []
  },
  {
   "cell_type": "code",
   "execution_count": 9,
   "id": "a51bd2af",
   "metadata": {},
   "outputs": [
    {
     "data": {
      "text/html": [
       "<div>\n",
       "<style scoped>\n",
       "    .dataframe tbody tr th:only-of-type {\n",
       "        vertical-align: middle;\n",
       "    }\n",
       "\n",
       "    .dataframe tbody tr th {\n",
       "        vertical-align: top;\n",
       "    }\n",
       "\n",
       "    .dataframe thead th {\n",
       "        text-align: right;\n",
       "    }\n",
       "</style>\n",
       "<table border=\"1\" class=\"dataframe\">\n",
       "  <thead>\n",
       "    <tr style=\"text-align: right;\">\n",
       "      <th></th>\n",
       "      <th>Common name</th>\n",
       "      <th>Origin</th>\n",
       "      <th>First developed</th>\n",
       "      <th>Comment</th>\n",
       "      <th>Use</th>\n",
       "    </tr>\n",
       "  </thead>\n",
       "  <tbody>\n",
       "    <tr>\n",
       "      <th>1122</th>\n",
       "      <td>Washu 1984</td>\n",
       "      <td>Japan</td>\n",
       "      <td>1920.0</td>\n",
       "      <td>Conical with light green skin and dark freckle...</td>\n",
       "      <td>Eating</td>\n",
       "    </tr>\n",
       "    <tr>\n",
       "      <th>244</th>\n",
       "      <td>Crispin</td>\n",
       "      <td>Japan</td>\n",
       "      <td>1930.0</td>\n",
       "      <td>See Mutsu</td>\n",
       "      <td>Eating</td>\n",
       "    </tr>\n",
       "    <tr>\n",
       "      <th>400</th>\n",
       "      <td>Fuji</td>\n",
       "      <td>Japan</td>\n",
       "      <td>1930.0</td>\n",
       "      <td>P Red Delicious × Ralls Genet. Dark red, conic...</td>\n",
       "      <td>Eating</td>\n",
       "    </tr>\n",
       "    <tr>\n",
       "      <th>749</th>\n",
       "      <td>Mutsu</td>\n",
       "      <td>Japan</td>\n",
       "      <td>1930.0</td>\n",
       "      <td>Known as \"Crispin\" in the United Kingdom. W 73...</td>\n",
       "      <td>Eating</td>\n",
       "    </tr>\n",
       "    <tr>\n",
       "      <th>1087</th>\n",
       "      <td>Tsugaru</td>\n",
       "      <td>Japan</td>\n",
       "      <td>1930.0</td>\n",
       "      <td>Golden Delicious × Jonathan</td>\n",
       "      <td>Eating</td>\n",
       "    </tr>\n",
       "  </tbody>\n",
       "</table>\n",
       "</div>"
      ],
      "text/plain": [
       "     Common name Origin  First developed  \\\n",
       "1122  Washu 1984  Japan           1920.0   \n",
       "244      Crispin  Japan           1930.0   \n",
       "400         Fuji  Japan           1930.0   \n",
       "749        Mutsu  Japan           1930.0   \n",
       "1087     Tsugaru  Japan           1930.0   \n",
       "\n",
       "                                                Comment     Use  \n",
       "1122  Conical with light green skin and dark freckle...  Eating  \n",
       "244                                           See Mutsu  Eating  \n",
       "400   P Red Delicious × Ralls Genet. Dark red, conic...  Eating  \n",
       "749   Known as \"Crispin\" in the United Kingdom. W 73...  Eating  \n",
       "1087                        Golden Delicious × Jonathan  Eating  "
      ]
     },
     "execution_count": 9,
     "metadata": {},
     "output_type": "execute_result"
    }
   ],
   "source": [
    "df['First developed'] = df['First developed'].dropna().astype(int)\n",
    "\n",
    "df[df.Origin == 'Japan'].sort_values(by='First developed').head()\n",
    "\n"
   ]
  },
  {
   "cell_type": "markdown",
   "id": "73a07843",
   "metadata": {},
   "source": [
    "## How old are these apple cultivars?\n",
    "\n",
    "You could use `.describe()`, but I want a graph. **What kind of chart do you use?** I want to see a graph that shows me a summary when these cultivars were discovered/introduced, not a graph of each individual one's year of introduction."
   ]
  },
  {
   "cell_type": "code",
   "execution_count": 10,
   "id": "f2a14499",
   "metadata": {},
   "outputs": [
    {
     "data": {
      "text/html": [
       "<div>\n",
       "<style scoped>\n",
       "    .dataframe tbody tr th:only-of-type {\n",
       "        vertical-align: middle;\n",
       "    }\n",
       "\n",
       "    .dataframe tbody tr th {\n",
       "        vertical-align: top;\n",
       "    }\n",
       "\n",
       "    .dataframe thead th {\n",
       "        text-align: right;\n",
       "    }\n",
       "</style>\n",
       "<table border=\"1\" class=\"dataframe\">\n",
       "  <thead>\n",
       "    <tr style=\"text-align: right;\">\n",
       "      <th></th>\n",
       "      <th>Common name</th>\n",
       "      <th>Origin</th>\n",
       "      <th>First developed</th>\n",
       "      <th>Comment</th>\n",
       "      <th>Use</th>\n",
       "      <th>age</th>\n",
       "    </tr>\n",
       "  </thead>\n",
       "  <tbody>\n",
       "    <tr>\n",
       "      <th>0</th>\n",
       "      <td>Abram</td>\n",
       "      <td>US</td>\n",
       "      <td>1850.0</td>\n",
       "      <td>A small apple with red flush. Flesh white, ten...</td>\n",
       "      <td>Eating</td>\n",
       "      <td>171.0</td>\n",
       "    </tr>\n",
       "    <tr>\n",
       "      <th>1</th>\n",
       "      <td>Acheson</td>\n",
       "      <td>Canada</td>\n",
       "      <td>1941.0</td>\n",
       "      <td>Fruit large, greenish yellow. P Delicious x un...</td>\n",
       "      <td>Eating</td>\n",
       "      <td>80.0</td>\n",
       "    </tr>\n",
       "    <tr>\n",
       "      <th>2</th>\n",
       "      <td>Acklam Russet</td>\n",
       "      <td>England</td>\n",
       "      <td>1768.0</td>\n",
       "      <td>A small russet apple. An excellent dessert app...</td>\n",
       "      <td>Eating</td>\n",
       "      <td>253.0</td>\n",
       "    </tr>\n",
       "    <tr>\n",
       "      <th>3</th>\n",
       "      <td>Adams Pearmain</td>\n",
       "      <td>England</td>\n",
       "      <td>1826.0</td>\n",
       "      <td>A dessert apple. First introduced under the na...</td>\n",
       "      <td>Eating</td>\n",
       "      <td>195.0</td>\n",
       "    </tr>\n",
       "    <tr>\n",
       "      <th>4</th>\n",
       "      <td>Adina (syn. Frankad, Satark)</td>\n",
       "      <td>Australia</td>\n",
       "      <td>NaN</td>\n",
       "      <td>A large red apple. Flesh firm, juicy, sweet, v...</td>\n",
       "      <td>Eating</td>\n",
       "      <td>NaN</td>\n",
       "    </tr>\n",
       "  </tbody>\n",
       "</table>\n",
       "</div>"
      ],
      "text/plain": [
       "                    Common name     Origin  First developed  \\\n",
       "0                         Abram         US           1850.0   \n",
       "1                       Acheson     Canada           1941.0   \n",
       "2                 Acklam Russet    England           1768.0   \n",
       "3                Adams Pearmain    England           1826.0   \n",
       "4  Adina (syn. Frankad, Satark)  Australia              NaN   \n",
       "\n",
       "                                             Comment     Use    age  \n",
       "0  A small apple with red flush. Flesh white, ten...  Eating  171.0  \n",
       "1  Fruit large, greenish yellow. P Delicious x un...  Eating   80.0  \n",
       "2  A small russet apple. An excellent dessert app...  Eating  253.0  \n",
       "3  A dessert apple. First introduced under the na...  Eating  195.0  \n",
       "4  A large red apple. Flesh firm, juicy, sweet, v...  Eating    NaN  "
      ]
     },
     "execution_count": 10,
     "metadata": {},
     "output_type": "execute_result"
    }
   ],
   "source": [
    "df['age'] = 2021 - df['First developed']\n",
    "df.head()\n"
   ]
  },
  {
   "cell_type": "code",
   "execution_count": 11,
   "id": "0f2518fd",
   "metadata": {
    "scrolled": true
   },
   "outputs": [
    {
     "data": {
      "text/plain": [
       "<AxesSubplot:ylabel='Common name'>"
      ]
     },
     "execution_count": 11,
     "metadata": {},
     "output_type": "execute_result"
    },
    {
     "data": {
      "image/png": "[encoded data removed]",
      "text/plain": [
       "<Figure size 720x576 with 1 Axes>"
      ]
     },
     "metadata": {
      "needs_background": "light"
     },
     "output_type": "display_data"
    }
   ],
   "source": [
    "df.sort_values(by='age').dropna().tail(30).plot(x='Common name', y='age', kind='barh', figsize=(10,8))\n",
    "\n",
    "\n"
   ]
  },
  {
   "cell_type": "code",
   "execution_count": null,
   "id": "b161092e",
   "metadata": {},
   "outputs": [],
   "source": []
  },
  {
   "cell_type": "markdown",
   "id": "f7ce0692",
   "metadata": {},
   "source": [
    "## How old are most apple cultivars that are used for creating cider?\n",
    "\n",
    "Cider used to be a big deal, so I would assume they're older. Include **anything that includes \"Cider\" anywhere in the `Use` description**. Make a graph, same as the last question."
   ]
  },
  {
   "cell_type": "code",
   "execution_count": 12,
   "id": "bbe67cac",
   "metadata": {},
   "outputs": [],
   "source": [
    "#df.info()\n"
   ]
  },
  {
   "cell_type": "code",
   "execution_count": 17,
   "id": "532e06ef",
   "metadata": {},
   "outputs": [
    {
     "data": {
      "text/plain": [
       "<AxesSubplot:>"
      ]
     },
     "execution_count": 17,
     "metadata": {},
     "output_type": "execute_result"
    },
    {
     "data": {
      "image/png": "[encoded data removed]",
      "text/plain": [
       "<Figure size 432x288 with 1 Axes>"
      ]
     },
     "metadata": {
      "needs_background": "light"
     },
     "output_type": "display_data"
    }
   ],
   "source": [
    "df['cider_apples'] = df.Use.str.contains('Cider', regex=False)\n",
    "\n",
    "df.sort_values(by='age').head(1000)#.Use.str.contains('Cider', regex=False)\n",
    "\n",
    "# df.sort_values(by='age').Use.str.contains('Cider')\n",
    "\n",
    "# I was looking for \n",
    "df[df.Use.str.contains('Cider', na=False)].age.hist()\n",
    "# but your answer was in the right direction. \n",
    "# Although - one issue is that \n",
    "# you did `.dropna()` before you graphed, which is going to remove rows with NaN *anywhere*,\n",
    "# so if they were missing (for example) a comment about their use, \n",
    "# you wouldn't have its age be graphed."
   ]
  }
 ],
 "metadata": {
  "kernelspec": {
   "display_name": "Python 3 (ipykernel)",
   "language": "python",
   "name": "python3"
  },
  "language_info": {
   "codemirror_mode": {
    "name": "ipython",
    "version": 3
   },
   "file_extension": ".py",
   "mimetype": "text/x-python",
   "name": "python",
   "nbconvert_exporter": "python",
   "pygments_lexer": "ipython3",
   "version": "3.9.7"
  }
 },
 "nbformat": 4,
 "nbformat_minor": 5
}
