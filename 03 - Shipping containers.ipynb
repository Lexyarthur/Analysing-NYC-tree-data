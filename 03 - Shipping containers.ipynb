{
 "cells": [
  {
   "cell_type": "markdown",
   "id": "b2c3e571",
   "metadata": {},
   "source": [
    "# Shipping Containers\n",
    "\n",
    "* **Data:** `Stats - TEU By Year.csv`\n",
    "* **Description:** Shipping container statistics, by year, from the Port of Long Beach (California).\n",
    "* **Source:** https://polb.com/business/port-statistics/#yearly-teus\n",
    "* **Columns of interest:**\n",
    "    * `Year` is the year of the data\n",
    "    * **Loaded** columns involve shipping containers that are full\n",
    "    * **Empty** columns involve shipping containers are are empty\n",
    "    * **Inbound** columns involve shipping containers coming into the port\n",
    "    * **Outbound** columns involve shipping containers leaving the port\n",
    "    * `Total Throughput` is the number of shipping containers going in and out of the port"
   ]
  },
  {
   "cell_type": "markdown",
   "id": "d82e1e9b",
   "metadata": {},
   "source": [
    "## Read in your data"
   ]
  },
  {
   "cell_type": "code",
   "execution_count": 1,
   "id": "839fa063",
   "metadata": {},
   "outputs": [
    {
     "name": "stderr",
     "output_type": "stream",
     "text": [
      "/Users/owner/.pyenv/versions/3.9.7/lib/python3.9/site-packages/pandas/compat/__init__.py:124: UserWarning: Could not import the lzma module. Your installed Python is incomplete. Attempting to use lzma compression will result in a RuntimeError.\n",
      "  warnings.warn(msg)\n"
     ]
    },
    {
     "data": {
      "text/html": [
       "<div>\n",
       "<style scoped>\n",
       "    .dataframe tbody tr th:only-of-type {\n",
       "        vertical-align: middle;\n",
       "    }\n",
       "\n",
       "    .dataframe tbody tr th {\n",
       "        vertical-align: top;\n",
       "    }\n",
       "\n",
       "    .dataframe thead th {\n",
       "        text-align: right;\n",
       "    }\n",
       "</style>\n",
       "<table border=\"1\" class=\"dataframe\">\n",
       "  <thead>\n",
       "    <tr style=\"text-align: right;\">\n",
       "      <th></th>\n",
       "      <th>Year</th>\n",
       "      <th>Loaded Inbound</th>\n",
       "      <th>Loaded Outbound</th>\n",
       "      <th>Total Loaded</th>\n",
       "      <th>Empties Inbound</th>\n",
       "      <th>Empties Outbound</th>\n",
       "      <th>Total Empties</th>\n",
       "      <th>Total Throughput</th>\n",
       "    </tr>\n",
       "  </thead>\n",
       "  <tbody>\n",
       "    <tr>\n",
       "      <th>0</th>\n",
       "      <td>2020</td>\n",
       "      <td>3,998,340</td>\n",
       "      <td>1,475,888</td>\n",
       "      <td>5,474,227</td>\n",
       "      <td>146,370</td>\n",
       "      <td>2,492,718</td>\n",
       "      <td>2,639,088</td>\n",
       "      <td>8,113,315</td>\n",
       "    </tr>\n",
       "    <tr>\n",
       "      <th>1</th>\n",
       "      <td>2019</td>\n",
       "      <td>3,758,438</td>\n",
       "      <td>1,472,802</td>\n",
       "      <td>5,231,240</td>\n",
       "      <td>74,706</td>\n",
       "      <td>2,326,087</td>\n",
       "      <td>2,400,792</td>\n",
       "      <td>7,632,032</td>\n",
       "    </tr>\n",
       "    <tr>\n",
       "      <th>2</th>\n",
       "      <td>2018</td>\n",
       "      <td>4,097,377</td>\n",
       "      <td>1,523,008</td>\n",
       "      <td>5,620,386</td>\n",
       "      <td>91,364</td>\n",
       "      <td>2,379,274</td>\n",
       "      <td>2,470,638</td>\n",
       "      <td>8,091,023</td>\n",
       "    </tr>\n",
       "    <tr>\n",
       "      <th>3</th>\n",
       "      <td>2017</td>\n",
       "      <td>3,863,187</td>\n",
       "      <td>1,470,514</td>\n",
       "      <td>5,333,701</td>\n",
       "      <td>75,710</td>\n",
       "      <td>2,135,096</td>\n",
       "      <td>2,210,806</td>\n",
       "      <td>7,544,507</td>\n",
       "    </tr>\n",
       "    <tr>\n",
       "      <th>4</th>\n",
       "      <td>2016</td>\n",
       "      <td>3,442,575</td>\n",
       "      <td>1,529,497</td>\n",
       "      <td>4,972,073</td>\n",
       "      <td>99,349</td>\n",
       "      <td>1,703,750</td>\n",
       "      <td>1,803,098</td>\n",
       "      <td>6,775,171</td>\n",
       "    </tr>\n",
       "  </tbody>\n",
       "</table>\n",
       "</div>"
      ],
      "text/plain": [
       "   Year Loaded Inbound Loaded Outbound Total Loaded Empties Inbound  \\\n",
       "0  2020      3,998,340       1,475,888    5,474,227         146,370   \n",
       "1  2019      3,758,438       1,472,802    5,231,240          74,706   \n",
       "2  2018      4,097,377       1,523,008    5,620,386          91,364   \n",
       "3  2017      3,863,187       1,470,514    5,333,701          75,710   \n",
       "4  2016      3,442,575       1,529,497    4,972,073          99,349   \n",
       "\n",
       "  Empties Outbound Total Empties Total Throughput  \n",
       "0        2,492,718     2,639,088        8,113,315  \n",
       "1        2,326,087     2,400,792        7,632,032  \n",
       "2        2,379,274     2,470,638        8,091,023  \n",
       "3        2,135,096     2,210,806        7,544,507  \n",
       "4        1,703,750     1,803,098        6,775,171  "
      ]
     },
     "execution_count": 1,
     "metadata": {},
     "output_type": "execute_result"
    }
   ],
   "source": [
    "import pandas as pd\n",
    "pd.set_option(\"display.max_columns\", None)\n",
    "pd.set_option(\"display.float_format\", '{:,}'.format)\n",
    "df = pd.read_csv('Stats - TEU By Year.csv')\n",
    "df.head()"
   ]
  },
  {
   "cell_type": "markdown",
   "id": "4743af4c",
   "metadata": {},
   "source": [
    "## How many years of data do we have?\n",
    "\n",
    "Also provide the first and last year"
   ]
  },
  {
   "cell_type": "code",
   "execution_count": 2,
   "id": "8909cd9c",
   "metadata": {},
   "outputs": [
    {
     "data": {
      "text/plain": [
       "25"
      ]
     },
     "execution_count": 2,
     "metadata": {},
     "output_type": "execute_result"
    }
   ],
   "source": [
    "# df.info()\n",
    "len(df)\n"
   ]
  },
  {
   "cell_type": "markdown",
   "id": "7292cf3f",
   "metadata": {},
   "source": [
    "## What is the total number of shipping containers that went in and out of the port during this time period?"
   ]
  },
  {
   "cell_type": "code",
   "execution_count": 3,
   "id": "f7fcd78b",
   "metadata": {},
   "outputs": [],
   "source": [
    "df['Total Throughput'] = df['Total Throughput'].str.replace(',', '').astype(int)\n",
    "df['Loaded Inbound'] = df['Loaded Inbound'].str.replace(',', '').astype(int)\n",
    "df['Loaded Outbound'] = df['Loaded Outbound'].str.replace(',', '').astype(int)\n",
    "df['Total Loaded'] = df['Total Loaded'].str.replace(',', '').astype(int)\n",
    "df['Empties Inbound'] = df['Empties Inbound'].str.replace(',', '').astype(int)\n",
    "df['Empties Outbound'] = df['Empties Outbound'].str.replace(',', '').astype(int)\n",
    "df['Total Empties'] = df['Total Empties'].str.replace(',', '').astype(int)"
   ]
  },
  {
   "cell_type": "code",
   "execution_count": 4,
   "id": "3e0d6f4e",
   "metadata": {
    "scrolled": true
   },
   "outputs": [
    {
     "data": {
      "text/plain": [
       "149025835"
      ]
     },
     "execution_count": 4,
     "metadata": {},
     "output_type": "execute_result"
    }
   ],
   "source": [
    "df['Total Throughput'] = df['Total Throughput'].astype(int)\n",
    "df['Total Throughput'].sum()"
   ]
  },
  {
   "cell_type": "code",
   "execution_count": null,
   "id": "b9d1a237",
   "metadata": {},
   "outputs": [],
   "source": []
  },
  {
   "cell_type": "markdown",
   "id": "4ea8272d",
   "metadata": {},
   "source": [
    "## Create a new column called `total_inbound` that is the number of containers entering the port"
   ]
  },
  {
   "cell_type": "code",
   "execution_count": 5,
   "id": "ca06ac05",
   "metadata": {},
   "outputs": [],
   "source": [
    "\n",
    "df['total_inbound'] = df['Empties Inbound'] + df['Loaded Inbound']"
   ]
  },
  {
   "cell_type": "code",
   "execution_count": 6,
   "id": "64e36837",
   "metadata": {},
   "outputs": [
    {
     "data": {
      "text/html": [
       "<div>\n",
       "<style scoped>\n",
       "    .dataframe tbody tr th:only-of-type {\n",
       "        vertical-align: middle;\n",
       "    }\n",
       "\n",
       "    .dataframe tbody tr th {\n",
       "        vertical-align: top;\n",
       "    }\n",
       "\n",
       "    .dataframe thead th {\n",
       "        text-align: right;\n",
       "    }\n",
       "</style>\n",
       "<table border=\"1\" class=\"dataframe\">\n",
       "  <thead>\n",
       "    <tr style=\"text-align: right;\">\n",
       "      <th></th>\n",
       "      <th>Year</th>\n",
       "      <th>Loaded Inbound</th>\n",
       "      <th>Loaded Outbound</th>\n",
       "      <th>Total Loaded</th>\n",
       "      <th>Empties Inbound</th>\n",
       "      <th>Empties Outbound</th>\n",
       "      <th>Total Empties</th>\n",
       "      <th>Total Throughput</th>\n",
       "      <th>total_inbound</th>\n",
       "    </tr>\n",
       "  </thead>\n",
       "  <tbody>\n",
       "    <tr>\n",
       "      <th>0</th>\n",
       "      <td>2020</td>\n",
       "      <td>3998340</td>\n",
       "      <td>1475888</td>\n",
       "      <td>5474227</td>\n",
       "      <td>146370</td>\n",
       "      <td>2492718</td>\n",
       "      <td>2639088</td>\n",
       "      <td>8113315</td>\n",
       "      <td>4144710</td>\n",
       "    </tr>\n",
       "    <tr>\n",
       "      <th>1</th>\n",
       "      <td>2019</td>\n",
       "      <td>3758438</td>\n",
       "      <td>1472802</td>\n",
       "      <td>5231240</td>\n",
       "      <td>74706</td>\n",
       "      <td>2326087</td>\n",
       "      <td>2400792</td>\n",
       "      <td>7632032</td>\n",
       "      <td>3833144</td>\n",
       "    </tr>\n",
       "    <tr>\n",
       "      <th>2</th>\n",
       "      <td>2018</td>\n",
       "      <td>4097377</td>\n",
       "      <td>1523008</td>\n",
       "      <td>5620386</td>\n",
       "      <td>91364</td>\n",
       "      <td>2379274</td>\n",
       "      <td>2470638</td>\n",
       "      <td>8091023</td>\n",
       "      <td>4188741</td>\n",
       "    </tr>\n",
       "    <tr>\n",
       "      <th>3</th>\n",
       "      <td>2017</td>\n",
       "      <td>3863187</td>\n",
       "      <td>1470514</td>\n",
       "      <td>5333701</td>\n",
       "      <td>75710</td>\n",
       "      <td>2135096</td>\n",
       "      <td>2210806</td>\n",
       "      <td>7544507</td>\n",
       "      <td>3938897</td>\n",
       "    </tr>\n",
       "    <tr>\n",
       "      <th>4</th>\n",
       "      <td>2016</td>\n",
       "      <td>3442575</td>\n",
       "      <td>1529497</td>\n",
       "      <td>4972073</td>\n",
       "      <td>99349</td>\n",
       "      <td>1703750</td>\n",
       "      <td>1803098</td>\n",
       "      <td>6775171</td>\n",
       "      <td>3541924</td>\n",
       "    </tr>\n",
       "  </tbody>\n",
       "</table>\n",
       "</div>"
      ],
      "text/plain": [
       "   Year  Loaded Inbound  Loaded Outbound  Total Loaded  Empties Inbound  \\\n",
       "0  2020         3998340          1475888       5474227           146370   \n",
       "1  2019         3758438          1472802       5231240            74706   \n",
       "2  2018         4097377          1523008       5620386            91364   \n",
       "3  2017         3863187          1470514       5333701            75710   \n",
       "4  2016         3442575          1529497       4972073            99349   \n",
       "\n",
       "   Empties Outbound  Total Empties  Total Throughput  total_inbound  \n",
       "0           2492718        2639088           8113315        4144710  \n",
       "1           2326087        2400792           7632032        3833144  \n",
       "2           2379274        2470638           8091023        4188741  \n",
       "3           2135096        2210806           7544507        3938897  \n",
       "4           1703750        1803098           6775171        3541924  "
      ]
     },
     "execution_count": 6,
     "metadata": {},
     "output_type": "execute_result"
    }
   ],
   "source": [
    "df.head()"
   ]
  },
  {
   "cell_type": "markdown",
   "id": "8758f8ff",
   "metadata": {},
   "source": [
    "## Create a new column that is percent empty for containers entering the port"
   ]
  },
  {
   "cell_type": "code",
   "execution_count": 7,
   "id": "34866479",
   "metadata": {},
   "outputs": [
    {
     "data": {
      "text/html": [
       "<div>\n",
       "<style scoped>\n",
       "    .dataframe tbody tr th:only-of-type {\n",
       "        vertical-align: middle;\n",
       "    }\n",
       "\n",
       "    .dataframe tbody tr th {\n",
       "        vertical-align: top;\n",
       "    }\n",
       "\n",
       "    .dataframe thead th {\n",
       "        text-align: right;\n",
       "    }\n",
       "</style>\n",
       "<table border=\"1\" class=\"dataframe\">\n",
       "  <thead>\n",
       "    <tr style=\"text-align: right;\">\n",
       "      <th></th>\n",
       "      <th>Year</th>\n",
       "      <th>Loaded Inbound</th>\n",
       "      <th>Loaded Outbound</th>\n",
       "      <th>Total Loaded</th>\n",
       "      <th>Empties Inbound</th>\n",
       "      <th>Empties Outbound</th>\n",
       "      <th>Total Empties</th>\n",
       "      <th>Total Throughput</th>\n",
       "      <th>total_inbound</th>\n",
       "      <th>empties_inbound_pc</th>\n",
       "    </tr>\n",
       "  </thead>\n",
       "  <tbody>\n",
       "    <tr>\n",
       "      <th>0</th>\n",
       "      <td>2020</td>\n",
       "      <td>3998340</td>\n",
       "      <td>1475888</td>\n",
       "      <td>5474227</td>\n",
       "      <td>146370</td>\n",
       "      <td>2492718</td>\n",
       "      <td>2639088</td>\n",
       "      <td>8113315</td>\n",
       "      <td>4144710</td>\n",
       "      <td>1.804071455379213</td>\n",
       "    </tr>\n",
       "    <tr>\n",
       "      <th>1</th>\n",
       "      <td>2019</td>\n",
       "      <td>3758438</td>\n",
       "      <td>1472802</td>\n",
       "      <td>5231240</td>\n",
       "      <td>74706</td>\n",
       "      <td>2326087</td>\n",
       "      <td>2400792</td>\n",
       "      <td>7632032</td>\n",
       "      <td>3833144</td>\n",
       "      <td>0.9788480970729683</td>\n",
       "    </tr>\n",
       "    <tr>\n",
       "      <th>2</th>\n",
       "      <td>2018</td>\n",
       "      <td>4097377</td>\n",
       "      <td>1523008</td>\n",
       "      <td>5620386</td>\n",
       "      <td>91364</td>\n",
       "      <td>2379274</td>\n",
       "      <td>2470638</td>\n",
       "      <td>8091023</td>\n",
       "      <td>4188741</td>\n",
       "      <td>1.1292020798853248</td>\n",
       "    </tr>\n",
       "    <tr>\n",
       "      <th>3</th>\n",
       "      <td>2017</td>\n",
       "      <td>3863187</td>\n",
       "      <td>1470514</td>\n",
       "      <td>5333701</td>\n",
       "      <td>75710</td>\n",
       "      <td>2135096</td>\n",
       "      <td>2210806</td>\n",
       "      <td>7544507</td>\n",
       "      <td>3938897</td>\n",
       "      <td>1.0035115614578924</td>\n",
       "    </tr>\n",
       "    <tr>\n",
       "      <th>4</th>\n",
       "      <td>2016</td>\n",
       "      <td>3442575</td>\n",
       "      <td>1529497</td>\n",
       "      <td>4972073</td>\n",
       "      <td>99349</td>\n",
       "      <td>1703750</td>\n",
       "      <td>1803098</td>\n",
       "      <td>6775171</td>\n",
       "      <td>3541924</td>\n",
       "      <td>1.4663688931246164</td>\n",
       "    </tr>\n",
       "  </tbody>\n",
       "</table>\n",
       "</div>"
      ],
      "text/plain": [
       "   Year  Loaded Inbound  Loaded Outbound  Total Loaded  Empties Inbound  \\\n",
       "0  2020         3998340          1475888       5474227           146370   \n",
       "1  2019         3758438          1472802       5231240            74706   \n",
       "2  2018         4097377          1523008       5620386            91364   \n",
       "3  2017         3863187          1470514       5333701            75710   \n",
       "4  2016         3442575          1529497       4972073            99349   \n",
       "\n",
       "   Empties Outbound  Total Empties  Total Throughput  total_inbound  \\\n",
       "0           2492718        2639088           8113315        4144710   \n",
       "1           2326087        2400792           7632032        3833144   \n",
       "2           2379274        2470638           8091023        4188741   \n",
       "3           2135096        2210806           7544507        3938897   \n",
       "4           1703750        1803098           6775171        3541924   \n",
       "\n",
       "   empties_inbound_pc  \n",
       "0   1.804071455379213  \n",
       "1  0.9788480970729683  \n",
       "2  1.1292020798853248  \n",
       "3  1.0035115614578924  \n",
       "4  1.4663688931246164  "
      ]
     },
     "execution_count": 7,
     "metadata": {},
     "output_type": "execute_result"
    }
   ],
   "source": [
    "df['empties_inbound_pc'] = df['Empties Inbound'] / df['Total Throughput'] * 100\n",
    "\n",
    "df.head()"
   ]
  },
  {
   "cell_type": "code",
   "execution_count": null,
   "id": "0a2b5d3d",
   "metadata": {},
   "outputs": [],
   "source": []
  },
  {
   "cell_type": "markdown",
   "id": "f932f124",
   "metadata": {},
   "source": [
    "## What year had the highest percentage of empty containers coming into port?"
   ]
  },
  {
   "cell_type": "code",
   "execution_count": 8,
   "id": "c182c63d",
   "metadata": {},
   "outputs": [
    {
     "data": {
      "text/html": [
       "<div>\n",
       "<style scoped>\n",
       "    .dataframe tbody tr th:only-of-type {\n",
       "        vertical-align: middle;\n",
       "    }\n",
       "\n",
       "    .dataframe tbody tr th {\n",
       "        vertical-align: top;\n",
       "    }\n",
       "\n",
       "    .dataframe thead th {\n",
       "        text-align: right;\n",
       "    }\n",
       "</style>\n",
       "<table border=\"1\" class=\"dataframe\">\n",
       "  <thead>\n",
       "    <tr style=\"text-align: right;\">\n",
       "      <th></th>\n",
       "      <th>Year</th>\n",
       "      <th>Loaded Inbound</th>\n",
       "      <th>Loaded Outbound</th>\n",
       "      <th>Total Loaded</th>\n",
       "      <th>Empties Inbound</th>\n",
       "      <th>Empties Outbound</th>\n",
       "      <th>Total Empties</th>\n",
       "      <th>Total Throughput</th>\n",
       "      <th>total_inbound</th>\n",
       "      <th>empties_inbound_pc</th>\n",
       "    </tr>\n",
       "  </thead>\n",
       "  <tbody>\n",
       "    <tr>\n",
       "      <th>24</th>\n",
       "      <td>1996</td>\n",
       "      <td>1547578</td>\n",
       "      <td>1081722</td>\n",
       "      <td>2629299</td>\n",
       "      <td>179252</td>\n",
       "      <td>258618</td>\n",
       "      <td>437869</td>\n",
       "      <td>3067169</td>\n",
       "      <td>1726830</td>\n",
       "      <td>5.8442166049539495</td>\n",
       "    </tr>\n",
       "    <tr>\n",
       "      <th>23</th>\n",
       "      <td>1997</td>\n",
       "      <td>1806734</td>\n",
       "      <td>1107492</td>\n",
       "      <td>2914225</td>\n",
       "      <td>93884</td>\n",
       "      <td>496616</td>\n",
       "      <td>590500</td>\n",
       "      <td>3504725</td>\n",
       "      <td>1900618</td>\n",
       "      <td>2.6787836420831876</td>\n",
       "    </tr>\n",
       "    <tr>\n",
       "      <th>22</th>\n",
       "      <td>1998</td>\n",
       "      <td>2096902</td>\n",
       "      <td>973598</td>\n",
       "      <td>3070500</td>\n",
       "      <td>108197</td>\n",
       "      <td>918943</td>\n",
       "      <td>1027139</td>\n",
       "      <td>4097639</td>\n",
       "      <td>2205099</td>\n",
       "      <td>2.640471744826716</td>\n",
       "    </tr>\n",
       "    <tr>\n",
       "      <th>17</th>\n",
       "      <td>2003</td>\n",
       "      <td>2370364</td>\n",
       "      <td>897145</td>\n",
       "      <td>3267509</td>\n",
       "      <td>107715</td>\n",
       "      <td>1206221</td>\n",
       "      <td>1313936</td>\n",
       "      <td>4581445</td>\n",
       "      <td>2478079</td>\n",
       "      <td>2.3511141135602416</td>\n",
       "    </tr>\n",
       "    <tr>\n",
       "      <th>16</th>\n",
       "      <td>2004</td>\n",
       "      <td>2987973</td>\n",
       "      <td>1007913</td>\n",
       "      <td>3995886</td>\n",
       "      <td>124006</td>\n",
       "      <td>1659955</td>\n",
       "      <td>1783960</td>\n",
       "      <td>5779846</td>\n",
       "      <td>3111979</td>\n",
       "      <td>2.145489689517679</td>\n",
       "    </tr>\n",
       "  </tbody>\n",
       "</table>\n",
       "</div>"
      ],
      "text/plain": [
       "    Year  Loaded Inbound  Loaded Outbound  Total Loaded  Empties Inbound  \\\n",
       "24  1996         1547578          1081722       2629299           179252   \n",
       "23  1997         1806734          1107492       2914225            93884   \n",
       "22  1998         2096902           973598       3070500           108197   \n",
       "17  2003         2370364           897145       3267509           107715   \n",
       "16  2004         2987973          1007913       3995886           124006   \n",
       "\n",
       "    Empties Outbound  Total Empties  Total Throughput  total_inbound  \\\n",
       "24            258618         437869           3067169        1726830   \n",
       "23            496616         590500           3504725        1900618   \n",
       "22            918943        1027139           4097639        2205099   \n",
       "17           1206221        1313936           4581445        2478079   \n",
       "16           1659955        1783960           5779846        3111979   \n",
       "\n",
       "    empties_inbound_pc  \n",
       "24  5.8442166049539495  \n",
       "23  2.6787836420831876  \n",
       "22   2.640471744826716  \n",
       "17  2.3511141135602416  \n",
       "16   2.145489689517679  "
      ]
     },
     "execution_count": 8,
     "metadata": {},
     "output_type": "execute_result"
    }
   ],
   "source": [
    "df.sort_values(by='empties_inbound_pc', ascending=False).head()\n",
    "\n",
    "\n",
    "# df.groupby('empties_inbound_pc').Year.value_counts()\n"
   ]
  },
  {
   "cell_type": "markdown",
   "id": "d83650ba",
   "metadata": {},
   "source": [
    "## Plot the percent of empty containers coming into port over the years"
   ]
  },
  {
   "cell_type": "code",
   "execution_count": 9,
   "id": "59acb7be",
   "metadata": {},
   "outputs": [
    {
     "data": {
      "text/plain": [
       "<AxesSubplot:ylabel='Year'>"
      ]
     },
     "execution_count": 9,
     "metadata": {},
     "output_type": "execute_result"
    },
    {
     "data": {
      "image/png": "[encoded data removed]",
      "text/plain": [
       "<Figure size 432x432 with 1 Axes>"
      ]
     },
     "metadata": {
      "needs_background": "light"
     },
     "output_type": "display_data"
    }
   ],
   "source": [
    "df.sort_values(by='empties_inbound_pc').plot(kind='barh', x='Year', y='empties_inbound_pc', figsize=(6,6))\n",
    "\n",
    "\n",
    "# df.plot.barh(x='Year', y='empties_inbound_pc')\n",
    "\n",
    "# REVIEW\n",
    "# For time series data you usually want line graphs \n",
    "# instead of bar graphs. \n",
    "# But yes, I do demand barh all of the time \n",
    "# so I can see why you'd do that! "
   ]
  },
  {
   "cell_type": "markdown",
   "id": "f32cc781",
   "metadata": {},
   "source": [
    "## Plot the port's total shipping container throughput over time"
   ]
  },
  {
   "cell_type": "code",
   "execution_count": 10,
   "id": "c88f006a",
   "metadata": {},
   "outputs": [
    {
     "data": {
      "text/plain": [
       "<AxesSubplot:ylabel='Year'>"
      ]
     },
     "execution_count": 10,
     "metadata": {},
     "output_type": "execute_result"
    },
    {
     "data": {
      "image/png": "[encoded data removed]",
      "text/plain": [
       "<Figure size 432x432 with 1 Axes>"
      ]
     },
     "metadata": {
      "needs_background": "light"
     },
     "output_type": "display_data"
    }
   ],
   "source": [
    "df.sort_values(by='Total Throughput').plot(kind='barh', x='Year', y='Total Throughput', figsize=(6,6))\n",
    "\n",
    "\n",
    "# df.sort_values(by='empties_inbound_pc').plot(kind='barh', x='Year', y='empties_inbound_pc')"
   ]
  },
  {
   "cell_type": "markdown",
   "id": "7a3c5ed7",
   "metadata": {},
   "source": [
    "## What year had the largest percent drop in throughput?\n",
    "\n",
    "You calculate percentage change on a column using using `.pct_change()`."
   ]
  },
  {
   "cell_type": "code",
   "execution_count": 31,
   "id": "5973aa20",
   "metadata": {
    "scrolled": true
   },
   "outputs": [
    {
     "data": {
      "text/html": [
       "<div>\n",
       "<style scoped>\n",
       "    .dataframe tbody tr th:only-of-type {\n",
       "        vertical-align: middle;\n",
       "    }\n",
       "\n",
       "    .dataframe tbody tr th {\n",
       "        vertical-align: top;\n",
       "    }\n",
       "\n",
       "    .dataframe thead th {\n",
       "        text-align: right;\n",
       "    }\n",
       "</style>\n",
       "<table border=\"1\" class=\"dataframe\">\n",
       "  <thead>\n",
       "    <tr style=\"text-align: right;\">\n",
       "      <th></th>\n",
       "      <th>Year</th>\n",
       "      <th>Loaded Inbound</th>\n",
       "      <th>Loaded Outbound</th>\n",
       "      <th>Total Loaded</th>\n",
       "      <th>Empties Inbound</th>\n",
       "      <th>Empties Outbound</th>\n",
       "      <th>Total Empties</th>\n",
       "      <th>Total Throughput</th>\n",
       "      <th>total_inbound</th>\n",
       "      <th>empties_inbound_pc</th>\n",
       "      <th>pcChange_TT</th>\n",
       "    </tr>\n",
       "  </thead>\n",
       "  <tbody>\n",
       "    <tr>\n",
       "      <th>2</th>\n",
       "      <td>2018</td>\n",
       "      <td>4097377</td>\n",
       "      <td>1523008</td>\n",
       "      <td>5620386</td>\n",
       "      <td>91364</td>\n",
       "      <td>2379274</td>\n",
       "      <td>2470638</td>\n",
       "      <td>8091023</td>\n",
       "      <td>4188741</td>\n",
       "      <td>1.1292020798853248</td>\n",
       "      <td>0.06014007802902288</td>\n",
       "    </tr>\n",
       "    <tr>\n",
       "      <th>5</th>\n",
       "      <td>2015</td>\n",
       "      <td>3625264</td>\n",
       "      <td>1525561</td>\n",
       "      <td>5150825</td>\n",
       "      <td>101560</td>\n",
       "      <td>1939684</td>\n",
       "      <td>2041244</td>\n",
       "      <td>7192069</td>\n",
       "      <td>3726824</td>\n",
       "      <td>1.4121110350860093</td>\n",
       "      <td>0.06153320705853771</td>\n",
       "    </tr>\n",
       "    <tr>\n",
       "      <th>13</th>\n",
       "      <td>2007</td>\n",
       "      <td>3704592</td>\n",
       "      <td>1574241</td>\n",
       "      <td>5278834</td>\n",
       "      <td>100309</td>\n",
       "      <td>1933323</td>\n",
       "      <td>2033632</td>\n",
       "      <td>7312465</td>\n",
       "      <td>3804901</td>\n",
       "      <td>1.3717535742051414</td>\n",
       "      <td>0.12710733473329072</td>\n",
       "    </tr>\n",
       "    <tr>\n",
       "      <th>12</th>\n",
       "      <td>2008</td>\n",
       "      <td>3189363</td>\n",
       "      <td>1687052</td>\n",
       "      <td>4876415</td>\n",
       "      <td>112911</td>\n",
       "      <td>1498491</td>\n",
       "      <td>1611402</td>\n",
       "      <td>6487816</td>\n",
       "      <td>3302274</td>\n",
       "      <td>1.7403545353320746</td>\n",
       "      <td>0.30012835324094445</td>\n",
       "    </tr>\n",
       "    <tr>\n",
       "      <th>0</th>\n",
       "      <td>2020</td>\n",
       "      <td>3998340</td>\n",
       "      <td>1475888</td>\n",
       "      <td>5474227</td>\n",
       "      <td>146370</td>\n",
       "      <td>2492718</td>\n",
       "      <td>2639088</td>\n",
       "      <td>8113315</td>\n",
       "      <td>4144710</td>\n",
       "      <td>1.804071455379213</td>\n",
       "      <td>NaN</td>\n",
       "    </tr>\n",
       "  </tbody>\n",
       "</table>\n",
       "</div>"
      ],
      "text/plain": [
       "    Year  Loaded Inbound  Loaded Outbound  Total Loaded  Empties Inbound  \\\n",
       "2   2018         4097377          1523008       5620386            91364   \n",
       "5   2015         3625264          1525561       5150825           101560   \n",
       "13  2007         3704592          1574241       5278834           100309   \n",
       "12  2008         3189363          1687052       4876415           112911   \n",
       "0   2020         3998340          1475888       5474227           146370   \n",
       "\n",
       "    Empties Outbound  Total Empties  Total Throughput  total_inbound  \\\n",
       "2            2379274        2470638           8091023        4188741   \n",
       "5            1939684        2041244           7192069        3726824   \n",
       "13           1933323        2033632           7312465        3804901   \n",
       "12           1498491        1611402           6487816        3302274   \n",
       "0            2492718        2639088           8113315        4144710   \n",
       "\n",
       "    empties_inbound_pc         pcChange_TT  \n",
       "2   1.1292020798853248 0.06014007802902288  \n",
       "5   1.4121110350860093 0.06153320705853771  \n",
       "13  1.3717535742051414 0.12710733473329072  \n",
       "12  1.7403545353320746 0.30012835324094445  \n",
       "0    1.804071455379213                 NaN  "
      ]
     },
     "execution_count": 31,
     "metadata": {},
     "output_type": "execute_result"
    }
   ],
   "source": [
    "# df['Total Throughput'].pct_change()#.sort_values(by='Total Throughput').pct_change()\n",
    "df['pcChange_TT'] = df['Total Throughput'].pct_change()\n",
    "\n",
    "df.sort_values(by='pcChange_TT').tail()"
   ]
  },
  {
   "cell_type": "markdown",
   "id": "9ca6a218",
   "metadata": {},
   "source": [
    "## Complete the following sentence, using the year from the last question\n",
    "\n",
    "`Compared to the previous year, in____ there was a ____% drop in shipping container throughput.` Just type it in a comment, no need to use f-strings or anything. "
   ]
  },
  {
   "cell_type": "code",
   "execution_count": 33,
   "id": "d432f25d",
   "metadata": {},
   "outputs": [],
   "source": [
    "#Compared to the previous year, in 2008 there was a 0.3 % drop in shipping container throughput."
   ]
  },
  {
   "cell_type": "code",
   "execution_count": null,
   "id": "0823ec5f",
   "metadata": {},
   "outputs": [],
   "source": []
  }
 ],
 "metadata": {
  "kernelspec": {
   "display_name": "Python 3 (ipykernel)",
   "language": "python",
   "name": "python3"
  },
  "language_info": {
   "codemirror_mode": {
    "name": "ipython",
    "version": 3
   },
   "file_extension": ".py",
   "mimetype": "text/x-python",
   "name": "python",
   "nbconvert_exporter": "python",
   "pygments_lexer": "ipython3",
   "version": "3.9.7"
  }
 },
 "nbformat": 4,
 "nbformat_minor": 5
}
